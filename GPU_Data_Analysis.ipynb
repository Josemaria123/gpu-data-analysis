{
 "cells": [
  {
   "cell_type": "code",
   "execution_count": 1,
   "id": "2475cdb7-6708-48e0-9023-43505366729e",
   "metadata": {},
   "outputs": [],
   "source": [
    "import pyodbc\n",
    "import pandas as pd\n",
    "import seaborn as sns\n",
    "import numpy as np\n",
    "import matplotlib.pyplot as plt\n",
    "import matplotlib"
   ]
  },
  {
   "cell_type": "code",
   "execution_count": 2,
   "id": "542fa248-ee74-4cd3-8e48-06833919ec25",
   "metadata": {},
   "outputs": [
    {
     "name": "stderr",
     "output_type": "stream",
     "text": [
      "C:\\Users\\Josemaria Saldias\\AppData\\Local\\Programs\\Python\\Python39\\lib\\site-packages\\pandas\\io\\sql.py:761: UserWarning: pandas only support SQLAlchemy connectable(engine/connection) ordatabase string URI or sqlite3 DBAPI2 connectionother DBAPI2 objects are not tested, please consider using SQLAlchemy\n",
      "  warnings.warn(\n"
     ]
    }
   ],
   "source": [
    "# Nos conectamos a la base de datos y leemos\n",
    "conn = pyodbc.connect(Trusted_Connection='yes', \n",
    "                      driver = '{SQL Server}',\n",
    "                      server = 'PC-JOSALO\\SQLEXPRESSSERVER', \n",
    "                      database = 'GPU_DATABASE')\n",
    "\n",
    "data = pd.read_sql('select * from gpu_data', conn)"
   ]
  },
  {
   "cell_type": "code",
   "execution_count": 3,
   "id": "de202193-e711-45ae-b194-5e009c5118a3",
   "metadata": {},
   "outputs": [
    {
     "data": {
      "text/html": [
       "<div>\n",
       "<style scoped>\n",
       "    .dataframe tbody tr th:only-of-type {\n",
       "        vertical-align: middle;\n",
       "    }\n",
       "\n",
       "    .dataframe tbody tr th {\n",
       "        vertical-align: top;\n",
       "    }\n",
       "\n",
       "    .dataframe thead th {\n",
       "        text-align: right;\n",
       "    }\n",
       "</style>\n",
       "<table border=\"1\" class=\"dataframe\">\n",
       "  <thead>\n",
       "    <tr style=\"text-align: right;\">\n",
       "      <th></th>\n",
       "      <th>product_specs_gpu_line_family_brand_brand_name</th>\n",
       "      <th>product_specs_gpu_name</th>\n",
       "      <th>product_brand_name</th>\n",
       "      <th>product_specs_gpu_stream_processors</th>\n",
       "      <th>product_specs_gpu_unicode</th>\n",
       "      <th>product_specs_core_clock</th>\n",
       "      <th>product_specs_memory_quantity_value</th>\n",
       "      <th>product_specs_memory_bus_width_value</th>\n",
       "      <th>product_specs_memory_type_name</th>\n",
       "      <th>product_specs_gpu_tdp</th>\n",
       "      <th>product_specs_length</th>\n",
       "      <th>product_specs_bus_unicode</th>\n",
       "      <th>metadata_normal_price_usd</th>\n",
       "      <th>metadata_offer_price_usd</th>\n",
       "      <th>precio_normal_pesos_chilenos</th>\n",
       "      <th>precio_oferta_pesos_chilenos</th>\n",
       "      <th>conectores_de_video</th>\n",
       "      <th>link_tarjeta</th>\n",
       "      <th>fecha_obtencion_info</th>\n",
       "      <th>resolucion_maxima_soportada</th>\n",
       "    </tr>\n",
       "  </thead>\n",
       "  <tbody>\n",
       "    <tr>\n",
       "      <th>0</th>\n",
       "      <td>NVIDIA</td>\n",
       "      <td>RTX 3090</td>\n",
       "      <td>PNY</td>\n",
       "      <td>10496</td>\n",
       "      <td>NVIDIA GeForce RTX 3090</td>\n",
       "      <td>1695</td>\n",
       "      <td>24576</td>\n",
       "      <td>384</td>\n",
       "      <td>GDDR6X</td>\n",
       "      <td>350</td>\n",
       "      <td>317</td>\n",
       "      <td>PCI Express 4.0 x16</td>\n",
       "      <td>1847.14</td>\n",
       "      <td>1754.78</td>\n",
       "      <td>1463158.0</td>\n",
       "      <td>1390000.0</td>\n",
       "      <td>3x DisplayPort; 1x HDMI</td>\n",
       "      <td>https://www.solotodo.cl/products/92309</td>\n",
       "      <td>2023-03-31</td>\n",
       "      <td>4K</td>\n",
       "    </tr>\n",
       "    <tr>\n",
       "      <th>1</th>\n",
       "      <td>NVIDIA</td>\n",
       "      <td>RTX 4080</td>\n",
       "      <td>MSI</td>\n",
       "      <td>9728</td>\n",
       "      <td>NVIDIA GeForce RTX 4080</td>\n",
       "      <td>2550</td>\n",
       "      <td>16384</td>\n",
       "      <td>256</td>\n",
       "      <td>GDDR6X</td>\n",
       "      <td>320</td>\n",
       "      <td>322</td>\n",
       "      <td>PCI Express 4.0 x16</td>\n",
       "      <td>1581.37</td>\n",
       "      <td>1502.30</td>\n",
       "      <td>1252632.0</td>\n",
       "      <td>1190000.0</td>\n",
       "      <td>3x Display Port 1.4a; 1x HDMI 2.1</td>\n",
       "      <td>https://www.solotodo.cl/products/155471</td>\n",
       "      <td>2023-03-31</td>\n",
       "      <td>8K</td>\n",
       "    </tr>\n",
       "    <tr>\n",
       "      <th>2</th>\n",
       "      <td>AMD</td>\n",
       "      <td>RX 6750 XT</td>\n",
       "      <td>Sapphire</td>\n",
       "      <td>2560</td>\n",
       "      <td>AMD Radeon RX 6750 XT</td>\n",
       "      <td>2618</td>\n",
       "      <td>12288</td>\n",
       "      <td>192</td>\n",
       "      <td>GDDR6</td>\n",
       "      <td>250</td>\n",
       "      <td>280</td>\n",
       "      <td>PCI Express 4.0 x16</td>\n",
       "      <td>631.09</td>\n",
       "      <td>631.09</td>\n",
       "      <td>499900.0</td>\n",
       "      <td>499900.0</td>\n",
       "      <td>3x DisplayPort; 1x HDMI</td>\n",
       "      <td>https://www.solotodo.cl/products/144415</td>\n",
       "      <td>2023-03-31</td>\n",
       "      <td>1440p</td>\n",
       "    </tr>\n",
       "    <tr>\n",
       "      <th>3</th>\n",
       "      <td>NVIDIA</td>\n",
       "      <td>RTX 4090</td>\n",
       "      <td>Zotac</td>\n",
       "      <td>16384</td>\n",
       "      <td>NVIDIA GeForce RTX 4090</td>\n",
       "      <td>2580</td>\n",
       "      <td>24576</td>\n",
       "      <td>384</td>\n",
       "      <td>GDDR6X</td>\n",
       "      <td>450</td>\n",
       "      <td>356</td>\n",
       "      <td>PCI Express 4.0 x16</td>\n",
       "      <td>2293.84</td>\n",
       "      <td>2252.79</td>\n",
       "      <td>1817000.0</td>\n",
       "      <td>1784480.0</td>\n",
       "      <td>3x DisplayPort; 1x HDMI</td>\n",
       "      <td>https://www.solotodo.cl/products/169420</td>\n",
       "      <td>2023-03-31</td>\n",
       "      <td>8K</td>\n",
       "    </tr>\n",
       "    <tr>\n",
       "      <th>4</th>\n",
       "      <td>NVIDIA</td>\n",
       "      <td>RTX 4090</td>\n",
       "      <td>Zotac</td>\n",
       "      <td>16384</td>\n",
       "      <td>NVIDIA GeForce RTX 4090</td>\n",
       "      <td>2535</td>\n",
       "      <td>24576</td>\n",
       "      <td>384</td>\n",
       "      <td>GDDR6X</td>\n",
       "      <td>450</td>\n",
       "      <td>356</td>\n",
       "      <td>PCI Express 4.0 x16</td>\n",
       "      <td>2157.78</td>\n",
       "      <td>2114.62</td>\n",
       "      <td>1703176.0</td>\n",
       "      <td>1669112.0</td>\n",
       "      <td>3x DisplayPort; 1x HDMI</td>\n",
       "      <td>https://www.solotodo.cl/products/154177</td>\n",
       "      <td>2023-03-31</td>\n",
       "      <td>8K</td>\n",
       "    </tr>\n",
       "  </tbody>\n",
       "</table>\n",
       "</div>"
      ],
      "text/plain": [
       "  product_specs_gpu_line_family_brand_brand_name product_specs_gpu_name  \\\n",
       "0                                         NVIDIA               RTX 3090   \n",
       "1                                         NVIDIA               RTX 4080   \n",
       "2                                            AMD             RX 6750 XT   \n",
       "3                                         NVIDIA               RTX 4090   \n",
       "4                                         NVIDIA               RTX 4090   \n",
       "\n",
       "  product_brand_name  product_specs_gpu_stream_processors  \\\n",
       "0                PNY                                10496   \n",
       "1                MSI                                 9728   \n",
       "2           Sapphire                                 2560   \n",
       "3              Zotac                                16384   \n",
       "4              Zotac                                16384   \n",
       "\n",
       "  product_specs_gpu_unicode  product_specs_core_clock  \\\n",
       "0   NVIDIA GeForce RTX 3090                      1695   \n",
       "1   NVIDIA GeForce RTX 4080                      2550   \n",
       "2     AMD Radeon RX 6750 XT                      2618   \n",
       "3   NVIDIA GeForce RTX 4090                      2580   \n",
       "4   NVIDIA GeForce RTX 4090                      2535   \n",
       "\n",
       "   product_specs_memory_quantity_value  product_specs_memory_bus_width_value  \\\n",
       "0                                24576                                   384   \n",
       "1                                16384                                   256   \n",
       "2                                12288                                   192   \n",
       "3                                24576                                   384   \n",
       "4                                24576                                   384   \n",
       "\n",
       "  product_specs_memory_type_name  product_specs_gpu_tdp  product_specs_length  \\\n",
       "0                         GDDR6X                    350                   317   \n",
       "1                         GDDR6X                    320                   322   \n",
       "2                          GDDR6                    250                   280   \n",
       "3                         GDDR6X                    450                   356   \n",
       "4                         GDDR6X                    450                   356   \n",
       "\n",
       "  product_specs_bus_unicode  metadata_normal_price_usd  \\\n",
       "0       PCI Express 4.0 x16                    1847.14   \n",
       "1       PCI Express 4.0 x16                    1581.37   \n",
       "2       PCI Express 4.0 x16                     631.09   \n",
       "3       PCI Express 4.0 x16                    2293.84   \n",
       "4       PCI Express 4.0 x16                    2157.78   \n",
       "\n",
       "   metadata_offer_price_usd  precio_normal_pesos_chilenos  \\\n",
       "0                   1754.78                     1463158.0   \n",
       "1                   1502.30                     1252632.0   \n",
       "2                    631.09                      499900.0   \n",
       "3                   2252.79                     1817000.0   \n",
       "4                   2114.62                     1703176.0   \n",
       "\n",
       "   precio_oferta_pesos_chilenos                conectores_de_video  \\\n",
       "0                     1390000.0            3x DisplayPort; 1x HDMI   \n",
       "1                     1190000.0  3x Display Port 1.4a; 1x HDMI 2.1   \n",
       "2                      499900.0            3x DisplayPort; 1x HDMI   \n",
       "3                     1784480.0            3x DisplayPort; 1x HDMI   \n",
       "4                     1669112.0            3x DisplayPort; 1x HDMI   \n",
       "\n",
       "                              link_tarjeta fecha_obtencion_info  \\\n",
       "0   https://www.solotodo.cl/products/92309           2023-03-31   \n",
       "1  https://www.solotodo.cl/products/155471           2023-03-31   \n",
       "2  https://www.solotodo.cl/products/144415           2023-03-31   \n",
       "3  https://www.solotodo.cl/products/169420           2023-03-31   \n",
       "4  https://www.solotodo.cl/products/154177           2023-03-31   \n",
       "\n",
       "  resolucion_maxima_soportada  \n",
       "0                          4K  \n",
       "1                          8K  \n",
       "2                       1440p  \n",
       "3                          8K  \n",
       "4                          8K  "
      ]
     },
     "execution_count": 3,
     "metadata": {},
     "output_type": "execute_result"
    }
   ],
   "source": [
    "data.head()"
   ]
  },
  {
   "cell_type": "markdown",
   "id": "0b0ea827-089d-44ee-b7b0-41e5e3c063bc",
   "metadata": {},
   "source": [
    "## Cambiamos el nombre de las columnas a nombres mas claros"
   ]
  },
  {
   "cell_type": "code",
   "execution_count": 4,
   "id": "b53cffdc-8527-47ad-928f-3b53b38a36d7",
   "metadata": {},
   "outputs": [],
   "source": [
    "data = data.rename(columns={'product_specs_gpu_line_family_brand_brand_name': 'marca',\n",
    "                            'product_specs_gpu_name': 'modelo',\n",
    "                            'product_brand_name': 'fabricante',\n",
    "                            'product_specs_gpu_stream_processors': 'nucleos_de_procesamiento',\n",
    "                            'product_specs_gpu_unicode': 'nombre_comercial',\n",
    "                            'product_specs_core_clock': 'core_clock',\n",
    "                            'product_specs_memory_quantity_value': 'cantidad_memoria_ram',\n",
    "                            'product_specs_memory_bus_width_value': 'ancho_banda_bus',\n",
    "                            'product_specs_memory_type_name': 'tipo_de_memoria',\n",
    "                            'product_specs_gpu_tdp': 'consumo_tdp',\n",
    "                            'product_specs_length': 'largo',\n",
    "                            'product_specs_bus_unicode': 'puerto_pci',\n",
    "                            'metadata_normal_price_usd': 'precio_normal_dolares',\n",
    "                            'metadata_offer_price_usd': 'precio_oferta_dolares'\n",
    "                           }\n",
    "                  )"
   ]
  },
  {
   "cell_type": "code",
   "execution_count": 5,
   "id": "6c7b3204-89c5-4a7d-97b5-956bd290778a",
   "metadata": {},
   "outputs": [
    {
     "data": {
      "text/html": [
       "<div>\n",
       "<style scoped>\n",
       "    .dataframe tbody tr th:only-of-type {\n",
       "        vertical-align: middle;\n",
       "    }\n",
       "\n",
       "    .dataframe tbody tr th {\n",
       "        vertical-align: top;\n",
       "    }\n",
       "\n",
       "    .dataframe thead th {\n",
       "        text-align: right;\n",
       "    }\n",
       "</style>\n",
       "<table border=\"1\" class=\"dataframe\">\n",
       "  <thead>\n",
       "    <tr style=\"text-align: right;\">\n",
       "      <th></th>\n",
       "      <th>marca</th>\n",
       "      <th>modelo</th>\n",
       "      <th>fabricante</th>\n",
       "      <th>nucleos_de_procesamiento</th>\n",
       "      <th>nombre_comercial</th>\n",
       "      <th>core_clock</th>\n",
       "      <th>cantidad_memoria_ram</th>\n",
       "      <th>ancho_banda_bus</th>\n",
       "      <th>tipo_de_memoria</th>\n",
       "      <th>consumo_tdp</th>\n",
       "      <th>largo</th>\n",
       "      <th>puerto_pci</th>\n",
       "      <th>precio_normal_dolares</th>\n",
       "      <th>precio_oferta_dolares</th>\n",
       "      <th>precio_normal_pesos_chilenos</th>\n",
       "      <th>precio_oferta_pesos_chilenos</th>\n",
       "      <th>conectores_de_video</th>\n",
       "      <th>link_tarjeta</th>\n",
       "      <th>fecha_obtencion_info</th>\n",
       "      <th>resolucion_maxima_soportada</th>\n",
       "    </tr>\n",
       "  </thead>\n",
       "  <tbody>\n",
       "    <tr>\n",
       "      <th>0</th>\n",
       "      <td>NVIDIA</td>\n",
       "      <td>RTX 3090</td>\n",
       "      <td>PNY</td>\n",
       "      <td>10496</td>\n",
       "      <td>NVIDIA GeForce RTX 3090</td>\n",
       "      <td>1695</td>\n",
       "      <td>24576</td>\n",
       "      <td>384</td>\n",
       "      <td>GDDR6X</td>\n",
       "      <td>350</td>\n",
       "      <td>317</td>\n",
       "      <td>PCI Express 4.0 x16</td>\n",
       "      <td>1847.14</td>\n",
       "      <td>1754.78</td>\n",
       "      <td>1463158.0</td>\n",
       "      <td>1390000.0</td>\n",
       "      <td>3x DisplayPort; 1x HDMI</td>\n",
       "      <td>https://www.solotodo.cl/products/92309</td>\n",
       "      <td>2023-03-31</td>\n",
       "      <td>4K</td>\n",
       "    </tr>\n",
       "    <tr>\n",
       "      <th>1</th>\n",
       "      <td>NVIDIA</td>\n",
       "      <td>RTX 4080</td>\n",
       "      <td>MSI</td>\n",
       "      <td>9728</td>\n",
       "      <td>NVIDIA GeForce RTX 4080</td>\n",
       "      <td>2550</td>\n",
       "      <td>16384</td>\n",
       "      <td>256</td>\n",
       "      <td>GDDR6X</td>\n",
       "      <td>320</td>\n",
       "      <td>322</td>\n",
       "      <td>PCI Express 4.0 x16</td>\n",
       "      <td>1581.37</td>\n",
       "      <td>1502.30</td>\n",
       "      <td>1252632.0</td>\n",
       "      <td>1190000.0</td>\n",
       "      <td>3x Display Port 1.4a; 1x HDMI 2.1</td>\n",
       "      <td>https://www.solotodo.cl/products/155471</td>\n",
       "      <td>2023-03-31</td>\n",
       "      <td>8K</td>\n",
       "    </tr>\n",
       "    <tr>\n",
       "      <th>2</th>\n",
       "      <td>AMD</td>\n",
       "      <td>RX 6750 XT</td>\n",
       "      <td>Sapphire</td>\n",
       "      <td>2560</td>\n",
       "      <td>AMD Radeon RX 6750 XT</td>\n",
       "      <td>2618</td>\n",
       "      <td>12288</td>\n",
       "      <td>192</td>\n",
       "      <td>GDDR6</td>\n",
       "      <td>250</td>\n",
       "      <td>280</td>\n",
       "      <td>PCI Express 4.0 x16</td>\n",
       "      <td>631.09</td>\n",
       "      <td>631.09</td>\n",
       "      <td>499900.0</td>\n",
       "      <td>499900.0</td>\n",
       "      <td>3x DisplayPort; 1x HDMI</td>\n",
       "      <td>https://www.solotodo.cl/products/144415</td>\n",
       "      <td>2023-03-31</td>\n",
       "      <td>1440p</td>\n",
       "    </tr>\n",
       "    <tr>\n",
       "      <th>3</th>\n",
       "      <td>NVIDIA</td>\n",
       "      <td>RTX 4090</td>\n",
       "      <td>Zotac</td>\n",
       "      <td>16384</td>\n",
       "      <td>NVIDIA GeForce RTX 4090</td>\n",
       "      <td>2580</td>\n",
       "      <td>24576</td>\n",
       "      <td>384</td>\n",
       "      <td>GDDR6X</td>\n",
       "      <td>450</td>\n",
       "      <td>356</td>\n",
       "      <td>PCI Express 4.0 x16</td>\n",
       "      <td>2293.84</td>\n",
       "      <td>2252.79</td>\n",
       "      <td>1817000.0</td>\n",
       "      <td>1784480.0</td>\n",
       "      <td>3x DisplayPort; 1x HDMI</td>\n",
       "      <td>https://www.solotodo.cl/products/169420</td>\n",
       "      <td>2023-03-31</td>\n",
       "      <td>8K</td>\n",
       "    </tr>\n",
       "    <tr>\n",
       "      <th>4</th>\n",
       "      <td>NVIDIA</td>\n",
       "      <td>RTX 4090</td>\n",
       "      <td>Zotac</td>\n",
       "      <td>16384</td>\n",
       "      <td>NVIDIA GeForce RTX 4090</td>\n",
       "      <td>2535</td>\n",
       "      <td>24576</td>\n",
       "      <td>384</td>\n",
       "      <td>GDDR6X</td>\n",
       "      <td>450</td>\n",
       "      <td>356</td>\n",
       "      <td>PCI Express 4.0 x16</td>\n",
       "      <td>2157.78</td>\n",
       "      <td>2114.62</td>\n",
       "      <td>1703176.0</td>\n",
       "      <td>1669112.0</td>\n",
       "      <td>3x DisplayPort; 1x HDMI</td>\n",
       "      <td>https://www.solotodo.cl/products/154177</td>\n",
       "      <td>2023-03-31</td>\n",
       "      <td>8K</td>\n",
       "    </tr>\n",
       "  </tbody>\n",
       "</table>\n",
       "</div>"
      ],
      "text/plain": [
       "    marca      modelo fabricante  nucleos_de_procesamiento  \\\n",
       "0  NVIDIA    RTX 3090        PNY                     10496   \n",
       "1  NVIDIA    RTX 4080        MSI                      9728   \n",
       "2     AMD  RX 6750 XT   Sapphire                      2560   \n",
       "3  NVIDIA    RTX 4090      Zotac                     16384   \n",
       "4  NVIDIA    RTX 4090      Zotac                     16384   \n",
       "\n",
       "          nombre_comercial  core_clock  cantidad_memoria_ram  ancho_banda_bus  \\\n",
       "0  NVIDIA GeForce RTX 3090        1695                 24576              384   \n",
       "1  NVIDIA GeForce RTX 4080        2550                 16384              256   \n",
       "2    AMD Radeon RX 6750 XT        2618                 12288              192   \n",
       "3  NVIDIA GeForce RTX 4090        2580                 24576              384   \n",
       "4  NVIDIA GeForce RTX 4090        2535                 24576              384   \n",
       "\n",
       "  tipo_de_memoria  consumo_tdp  largo           puerto_pci  \\\n",
       "0          GDDR6X          350    317  PCI Express 4.0 x16   \n",
       "1          GDDR6X          320    322  PCI Express 4.0 x16   \n",
       "2           GDDR6          250    280  PCI Express 4.0 x16   \n",
       "3          GDDR6X          450    356  PCI Express 4.0 x16   \n",
       "4          GDDR6X          450    356  PCI Express 4.0 x16   \n",
       "\n",
       "   precio_normal_dolares  precio_oferta_dolares  precio_normal_pesos_chilenos  \\\n",
       "0                1847.14                1754.78                     1463158.0   \n",
       "1                1581.37                1502.30                     1252632.0   \n",
       "2                 631.09                 631.09                      499900.0   \n",
       "3                2293.84                2252.79                     1817000.0   \n",
       "4                2157.78                2114.62                     1703176.0   \n",
       "\n",
       "   precio_oferta_pesos_chilenos                conectores_de_video  \\\n",
       "0                     1390000.0            3x DisplayPort; 1x HDMI   \n",
       "1                     1190000.0  3x Display Port 1.4a; 1x HDMI 2.1   \n",
       "2                      499900.0            3x DisplayPort; 1x HDMI   \n",
       "3                     1784480.0            3x DisplayPort; 1x HDMI   \n",
       "4                     1669112.0            3x DisplayPort; 1x HDMI   \n",
       "\n",
       "                              link_tarjeta fecha_obtencion_info  \\\n",
       "0   https://www.solotodo.cl/products/92309           2023-03-31   \n",
       "1  https://www.solotodo.cl/products/155471           2023-03-31   \n",
       "2  https://www.solotodo.cl/products/144415           2023-03-31   \n",
       "3  https://www.solotodo.cl/products/169420           2023-03-31   \n",
       "4  https://www.solotodo.cl/products/154177           2023-03-31   \n",
       "\n",
       "  resolucion_maxima_soportada  \n",
       "0                          4K  \n",
       "1                          8K  \n",
       "2                       1440p  \n",
       "3                          8K  \n",
       "4                          8K  "
      ]
     },
     "execution_count": 5,
     "metadata": {},
     "output_type": "execute_result"
    }
   ],
   "source": [
    "data.head()"
   ]
  },
  {
   "cell_type": "markdown",
   "id": "f00f0631-90d7-44ac-957f-d03b415fa06e",
   "metadata": {},
   "source": [
    "## Analicemos si hay duplicados en los datos y valores nulos"
   ]
  },
  {
   "cell_type": "code",
   "execution_count": 6,
   "id": "e0e96b47-d1ad-4907-81c6-bc046ffd1b96",
   "metadata": {},
   "outputs": [
    {
     "name": "stdout",
     "output_type": "stream",
     "text": [
      "No hay duplicados en el dataset\n"
     ]
    }
   ],
   "source": [
    "df_duplicados = data[data.duplicated() == True]\n",
    "if len(df_duplicados) == 0:\n",
    "    print('No hay duplicados en el dataset')\n",
    "else:\n",
    "    print(df_duplicados)"
   ]
  },
  {
   "cell_type": "code",
   "execution_count": 7,
   "id": "63038e9d-9b23-4308-9b1f-c125b893aa2b",
   "metadata": {},
   "outputs": [
    {
     "data": {
      "text/plain": [
       "marca                           0\n",
       "modelo                          0\n",
       "fabricante                      0\n",
       "nucleos_de_procesamiento        0\n",
       "nombre_comercial                0\n",
       "core_clock                      0\n",
       "cantidad_memoria_ram            0\n",
       "ancho_banda_bus                 0\n",
       "tipo_de_memoria                 0\n",
       "consumo_tdp                     0\n",
       "largo                           0\n",
       "puerto_pci                      0\n",
       "precio_normal_dolares           0\n",
       "precio_oferta_dolares           0\n",
       "precio_normal_pesos_chilenos    0\n",
       "precio_oferta_pesos_chilenos    0\n",
       "conectores_de_video             0\n",
       "link_tarjeta                    0\n",
       "fecha_obtencion_info            0\n",
       "resolucion_maxima_soportada     0\n",
       "dtype: int64"
      ]
     },
     "execution_count": 7,
     "metadata": {},
     "output_type": "execute_result"
    }
   ],
   "source": [
    "# Ahora veamos los valores nulos\n",
    "data.isnull().sum()"
   ]
  },
  {
   "cell_type": "markdown",
   "id": "0d076511-5df8-4b85-9aab-41b7d82e4982",
   "metadata": {
    "tags": []
   },
   "source": [
    "## Analicemos los precios normales en pesos chilenos para NVIDIA"
   ]
  },
  {
   "cell_type": "code",
   "execution_count": 8,
   "id": "4ece3654-b981-48a1-8c61-1e6bbf093599",
   "metadata": {},
   "outputs": [
    {
     "data": {
      "text/plain": [
       "marca                            object\n",
       "modelo                           object\n",
       "fabricante                       object\n",
       "nucleos_de_procesamiento          int64\n",
       "nombre_comercial                 object\n",
       "core_clock                        int64\n",
       "cantidad_memoria_ram              int64\n",
       "ancho_banda_bus                   int64\n",
       "tipo_de_memoria                  object\n",
       "consumo_tdp                       int64\n",
       "largo                             int64\n",
       "puerto_pci                       object\n",
       "precio_normal_dolares           float64\n",
       "precio_oferta_dolares           float64\n",
       "precio_normal_pesos_chilenos    float64\n",
       "precio_oferta_pesos_chilenos    float64\n",
       "conectores_de_video              object\n",
       "link_tarjeta                     object\n",
       "fecha_obtencion_info             object\n",
       "resolucion_maxima_soportada      object\n",
       "dtype: object"
      ]
     },
     "execution_count": 8,
     "metadata": {},
     "output_type": "execute_result"
    }
   ],
   "source": [
    "data.dtypes"
   ]
  },
  {
   "cell_type": "code",
   "execution_count": 9,
   "id": "601e915f-0c25-42ee-9d6e-9b061e6bc6ac",
   "metadata": {},
   "outputs": [],
   "source": [
    "data['fecha_obtencion_info'] = pd.to_datetime(data['fecha_obtencion_info'])"
   ]
  },
  {
   "cell_type": "code",
   "execution_count": 10,
   "id": "d221e49a-755d-409c-8e5a-33766e6697fe",
   "metadata": {},
   "outputs": [
    {
     "data": {
      "image/png": "[encoded data removed]",
      "text/plain": [
       "<Figure size 1080x432 with 1 Axes>"
      ]
     },
     "metadata": {
      "needs_background": "light"
     },
     "output_type": "display_data"
    }
   ],
   "source": [
    "nvidia_df = data.loc[data['marca'] == 'NVIDIA' ]\n",
    "nvidia_df = nvidia_df[['modelo', 'fecha_obtencion_info', 'precio_normal_pesos_chilenos']]#.groupby('modelo')['precio_normal_pesos_chilenos'].mean().sort_values(ascending=False).to_frame()\n",
    "nvidia_df = nvidia_df.groupby(['modelo', 'fecha_obtencion_info'])['precio_normal_pesos_chilenos'].agg(['mean'])\n",
    "nvidia_df = nvidia_df.rename(columns={'mean':'avg_normal_price'})\n",
    "plt.figure(figsize=(15,6))\n",
    "ax = sns.lineplot(x='fecha_obtencion_info', y='avg_normal_price', hue='modelo', data=nvidia_df, errorbar=None)\n",
    "plt.legend(loc='upper right', bbox_to_anchor=(1.13, 1))\n",
    "plt.xlabel('Fecha', fontsize=20, labelpad=15)\n",
    "plt.ylabel('Precio normal CLP', fontsize=20, labelpad=15)\n",
    "plt.title('Precio promedio de tarjetas NVIDIA vs Tiempo', fontsize=20, pad=15)\n",
    "ax.get_yaxis().set_major_formatter(matplotlib.ticker.FuncFormatter(lambda x, p: format(int(x), ',')))\n",
    "plt.show()"
   ]
  },
  {
   "cell_type": "code",
   "execution_count": 11,
   "id": "eff16928-165d-49f9-a7d9-5a1e0e93e186",
   "metadata": {},
   "outputs": [
    {
     "data": {
      "image/png": "[encoded data removed]",
      "text/plain": [
       "<Figure size 1080x432 with 1 Axes>"
      ]
     },
     "metadata": {
      "needs_background": "light"
     },
     "output_type": "display_data"
    }
   ],
   "source": [
    "# Analicemos el precio de las AMD\n",
    "amd_df = data.loc[data['marca'] == 'AMD' ]\n",
    "amd_df = amd_df[['modelo', 'fecha_obtencion_info', 'precio_normal_pesos_chilenos']]#.groupby('modelo')['precio_normal_pesos_chilenos'].mean().sort_values(ascending=False).to_frame()\n",
    "amd_df = amd_df.groupby(['modelo', 'fecha_obtencion_info'])['precio_normal_pesos_chilenos'].agg(['mean'])\n",
    "amd_df = amd_df.rename(columns={'mean':'avg_normal_price'})\n",
    "plt.figure(figsize=(15,6))\n",
    "ax = sns.lineplot(x='fecha_obtencion_info', y='avg_normal_price', hue='modelo', data=amd_df, errorbar=None)\n",
    "plt.legend(loc='upper right', bbox_to_anchor=(1.13, 1))\n",
    "plt.xlabel('Fecha', fontsize=20, labelpad=15)\n",
    "plt.ylabel('Precio normal CLP', fontsize=20, labelpad=15)\n",
    "plt.title('Precio promedio de tarjetas AMD vs Tiempo', fontsize=20, pad=15)\n",
    "ax.get_yaxis().set_major_formatter(matplotlib.ticker.FuncFormatter(lambda x, p: format(int(x), ',')))\n",
    "plt.show()"
   ]
  },
  {
   "cell_type": "markdown",
   "id": "13ccb4d4-ac9e-43ed-bcfb-70bf59c70ab3",
   "metadata": {
    "tags": []
   },
   "source": [
    "## Distribución de precios normales para NVIDIA y AMD"
   ]
  },
  {
   "cell_type": "code",
   "execution_count": 12,
   "id": "22114e43-d035-4959-a4fe-7b3e257ee5f4",
   "metadata": {},
   "outputs": [
    {
     "data": {
      "image/png": "[encoded data removed]",
      "text/plain": [
       "<Figure size 1080x432 with 1 Axes>"
      ]
     },
     "metadata": {
      "needs_background": "light"
     },
     "output_type": "display_data"
    }
   ],
   "source": [
    "# Grafiquemos la distribución de los precios usando un boxplot\n",
    "plt.figure(figsize=(15,6))\n",
    "ax = sns.boxplot(data=data, y='precio_normal_pesos_chilenos', x='marca')\n",
    "ax.get_yaxis().set_major_formatter(matplotlib.ticker.FuncFormatter(lambda x, p: format(int(x), ',')))\n",
    "plt.title('Distribución de precios normales para NVIDIA y AMD', fontsize=20)\n",
    "plt.show()"
   ]
  },
  {
   "cell_type": "markdown",
   "id": "758b0cd3-08a8-47ca-b9c5-e92c62b515b4",
   "metadata": {},
   "source": [
    "Vemos que hay outliers. Identifiquémos cuales son"
   ]
  },
  {
   "cell_type": "code",
   "execution_count": 13,
   "id": "8e91097e-87f8-42b2-a0ee-62e4f81f7020",
   "metadata": {},
   "outputs": [
    {
     "name": "stdout",
     "output_type": "stream",
     "text": [
      "NVIDIA Bounds:  -892353.75 2775396.25\n",
      "AMD Bounds:  -369510.0 1802490.0\n"
     ]
    }
   ],
   "source": [
    "nvidia_prices = data['precio_normal_pesos_chilenos'].loc[data['marca'] == 'NVIDIA']\n",
    "Q3_nvidia = np.quantile(nvidia_prices, 0.75)\n",
    "Q1_nvidia = np.quantile(nvidia_prices, 0.25)\n",
    "IQR_nvidia = Q3_nvidia - Q1_nvidia\n",
    "upper_bound_nvidia = Q3_nvidia + 1.5*IQR_nvidia\n",
    "lower_bound_nvidia = Q1_nvidia - 1.5*IQR_nvidia\n",
    "print('NVIDIA Bounds: ', lower_bound_nvidia, upper_bound_nvidia)\n",
    "\n",
    "amd_prices = data['precio_normal_pesos_chilenos'].loc[data['marca'] == 'AMD']\n",
    "Q3_amd = np.quantile(amd_prices, 0.75)\n",
    "Q1_amd = np.quantile(amd_prices, 0.25)\n",
    "IQR_amd = Q3_amd - Q1_amd\n",
    "upper_bound_amd = Q3_amd + 1.5*IQR_amd\n",
    "lower_bound_amd = Q1_amd - 1.5*IQR_amd\n",
    "print('AMD Bounds: ', lower_bound_amd, upper_bound_amd)"
   ]
  },
  {
   "cell_type": "code",
   "execution_count": 14,
   "id": "abe5ef65-38e2-4ad9-b985-132fcfd36856",
   "metadata": {},
   "outputs": [
    {
     "data": {
      "image/png": "[encoded data removed]",
      "text/plain": [
       "<Figure size 1080x432 with 1 Axes>"
      ]
     },
     "metadata": {
      "needs_background": "light"
     },
     "output_type": "display_data"
    }
   ],
   "source": [
    "# Filtramos los outliers de los datos\n",
    "filtered_prices = data.loc[(data['precio_normal_pesos_chilenos'] < Q3_nvidia)]\n",
    "plt.figure(figsize=(15,6))\n",
    "ax = sns.boxplot(data=filtered_prices, y='precio_normal_pesos_chilenos', x='marca')\n",
    "ax.get_yaxis().set_major_formatter(matplotlib.ticker.FuncFormatter(lambda x, p: format(int(x), ',')))\n",
    "plt.title('Distribución de precios normales para NVIDIA y AMD', fontsize=20)\n",
    "plt.ylabel('Precio normal en pesos chilenos', fontsize=15)\n",
    "plt.xlabel('Marca', fontsize=15)\n",
    "plt.show()"
   ]
  },
  {
   "cell_type": "markdown",
   "id": "406e61fc-fbb2-4794-b1ab-c48ce631323e",
   "metadata": {},
   "source": [
    "La mediana de precios para NVIDIA es superior a 600.000 pesos, en cambio para AMD es de menos de 600.000 pesos chilenos. El 75% de los precios de AMD y de NVIDIA son inferiores a 1.000.000 de pesos aprox."
   ]
  },
  {
   "cell_type": "code",
   "execution_count": 15,
   "id": "70683297-f5b3-41b6-9a4e-3ef2990ebde3",
   "metadata": {},
   "outputs": [
    {
     "data": {
      "text/html": [
       "<div>\n",
       "<style scoped>\n",
       "    .dataframe tbody tr th:only-of-type {\n",
       "        vertical-align: middle;\n",
       "    }\n",
       "\n",
       "    .dataframe tbody tr th {\n",
       "        vertical-align: top;\n",
       "    }\n",
       "\n",
       "    .dataframe thead th {\n",
       "        text-align: right;\n",
       "    }\n",
       "</style>\n",
       "<table border=\"1\" class=\"dataframe\">\n",
       "  <thead>\n",
       "    <tr style=\"text-align: right;\">\n",
       "      <th></th>\n",
       "      <th>nucleos_de_procesamiento</th>\n",
       "      <th>core_clock</th>\n",
       "      <th>cantidad_memoria_ram</th>\n",
       "      <th>ancho_banda_bus</th>\n",
       "      <th>consumo_tdp</th>\n",
       "      <th>largo</th>\n",
       "      <th>precio_normal_dolares</th>\n",
       "      <th>precio_oferta_dolares</th>\n",
       "      <th>precio_normal_pesos_chilenos</th>\n",
       "      <th>precio_oferta_pesos_chilenos</th>\n",
       "    </tr>\n",
       "  </thead>\n",
       "  <tbody>\n",
       "    <tr>\n",
       "      <th>count</th>\n",
       "      <td>955.000000</td>\n",
       "      <td>955.000000</td>\n",
       "      <td>955.000000</td>\n",
       "      <td>955.000000</td>\n",
       "      <td>955.000000</td>\n",
       "      <td>955.000000</td>\n",
       "      <td>955.000000</td>\n",
       "      <td>955.000000</td>\n",
       "      <td>9.550000e+02</td>\n",
       "      <td>9.550000e+02</td>\n",
       "    </tr>\n",
       "    <tr>\n",
       "      <th>mean</th>\n",
       "      <td>4872.192670</td>\n",
       "      <td>2067.302618</td>\n",
       "      <td>10728.946597</td>\n",
       "      <td>218.136126</td>\n",
       "      <td>225.570681</td>\n",
       "      <td>274.918325</td>\n",
       "      <td>876.059770</td>\n",
       "      <td>846.087571</td>\n",
       "      <td>7.000676e+05</td>\n",
       "      <td>6.761601e+05</td>\n",
       "    </tr>\n",
       "    <tr>\n",
       "      <th>std</th>\n",
       "      <td>2385.404514</td>\n",
       "      <td>426.106904</td>\n",
       "      <td>3732.980303</td>\n",
       "      <td>73.221830</td>\n",
       "      <td>69.739061</td>\n",
       "      <td>48.913281</td>\n",
       "      <td>396.975701</td>\n",
       "      <td>381.080889</td>\n",
       "      <td>3.172131e+05</td>\n",
       "      <td>3.045553e+05</td>\n",
       "    </tr>\n",
       "    <tr>\n",
       "      <th>min</th>\n",
       "      <td>1024.000000</td>\n",
       "      <td>0.000000</td>\n",
       "      <td>4096.000000</td>\n",
       "      <td>64.000000</td>\n",
       "      <td>107.000000</td>\n",
       "      <td>0.000000</td>\n",
       "      <td>236.810000</td>\n",
       "      <td>236.810000</td>\n",
       "      <td>1.919900e+05</td>\n",
       "      <td>1.919900e+05</td>\n",
       "    </tr>\n",
       "    <tr>\n",
       "      <th>25%</th>\n",
       "      <td>2560.000000</td>\n",
       "      <td>1770.000000</td>\n",
       "      <td>8192.000000</td>\n",
       "      <td>128.000000</td>\n",
       "      <td>170.000000</td>\n",
       "      <td>242.500000</td>\n",
       "      <td>562.630000</td>\n",
       "      <td>542.775000</td>\n",
       "      <td>4.521700e+05</td>\n",
       "      <td>4.299900e+05</td>\n",
       "    </tr>\n",
       "    <tr>\n",
       "      <th>50%</th>\n",
       "      <td>4664.000000</td>\n",
       "      <td>1825.000000</td>\n",
       "      <td>8192.000000</td>\n",
       "      <td>256.000000</td>\n",
       "      <td>220.000000</td>\n",
       "      <td>282.000000</td>\n",
       "      <td>783.890000</td>\n",
       "      <td>758.610000</td>\n",
       "      <td>6.307640e+05</td>\n",
       "      <td>6.099000e+05</td>\n",
       "    </tr>\n",
       "    <tr>\n",
       "      <th>75%</th>\n",
       "      <td>6144.000000</td>\n",
       "      <td>2535.000000</td>\n",
       "      <td>12288.000000</td>\n",
       "      <td>256.000000</td>\n",
       "      <td>290.000000</td>\n",
       "      <td>316.000000</td>\n",
       "      <td>1194.180000</td>\n",
       "      <td>1161.430000</td>\n",
       "      <td>9.503420e+05</td>\n",
       "      <td>9.265300e+05</td>\n",
       "    </tr>\n",
       "    <tr>\n",
       "      <th>max</th>\n",
       "      <td>10240.000000</td>\n",
       "      <td>2825.000000</td>\n",
       "      <td>24576.000000</td>\n",
       "      <td>384.000000</td>\n",
       "      <td>355.000000</td>\n",
       "      <td>356.000000</td>\n",
       "      <td>1748.460000</td>\n",
       "      <td>1643.660000</td>\n",
       "      <td>1.382872e+06</td>\n",
       "      <td>1.299990e+06</td>\n",
       "    </tr>\n",
       "  </tbody>\n",
       "</table>\n",
       "</div>"
      ],
      "text/plain": [
       "       nucleos_de_procesamiento   core_clock  cantidad_memoria_ram  \\\n",
       "count                955.000000   955.000000            955.000000   \n",
       "mean                4872.192670  2067.302618          10728.946597   \n",
       "std                 2385.404514   426.106904           3732.980303   \n",
       "min                 1024.000000     0.000000           4096.000000   \n",
       "25%                 2560.000000  1770.000000           8192.000000   \n",
       "50%                 4664.000000  1825.000000           8192.000000   \n",
       "75%                 6144.000000  2535.000000          12288.000000   \n",
       "max                10240.000000  2825.000000          24576.000000   \n",
       "\n",
       "       ancho_banda_bus  consumo_tdp       largo  precio_normal_dolares  \\\n",
       "count       955.000000   955.000000  955.000000             955.000000   \n",
       "mean        218.136126   225.570681  274.918325             876.059770   \n",
       "std          73.221830    69.739061   48.913281             396.975701   \n",
       "min          64.000000   107.000000    0.000000             236.810000   \n",
       "25%         128.000000   170.000000  242.500000             562.630000   \n",
       "50%         256.000000   220.000000  282.000000             783.890000   \n",
       "75%         256.000000   290.000000  316.000000            1194.180000   \n",
       "max         384.000000   355.000000  356.000000            1748.460000   \n",
       "\n",
       "       precio_oferta_dolares  precio_normal_pesos_chilenos  \\\n",
       "count             955.000000                  9.550000e+02   \n",
       "mean              846.087571                  7.000676e+05   \n",
       "std               381.080889                  3.172131e+05   \n",
       "min               236.810000                  1.919900e+05   \n",
       "25%               542.775000                  4.521700e+05   \n",
       "50%               758.610000                  6.307640e+05   \n",
       "75%              1161.430000                  9.503420e+05   \n",
       "max              1643.660000                  1.382872e+06   \n",
       "\n",
       "       precio_oferta_pesos_chilenos  \n",
       "count                  9.550000e+02  \n",
       "mean                   6.761601e+05  \n",
       "std                    3.045553e+05  \n",
       "min                    1.919900e+05  \n",
       "25%                    4.299900e+05  \n",
       "50%                    6.099000e+05  \n",
       "75%                    9.265300e+05  \n",
       "max                    1.299990e+06  "
      ]
     },
     "execution_count": 15,
     "metadata": {},
     "output_type": "execute_result"
    }
   ],
   "source": [
    "filtered_prices.describe()"
   ]
  },
  {
   "cell_type": "markdown",
   "id": "247b9656-1c5a-4aa6-afde-4d7689846956",
   "metadata": {
    "jp-MarkdownHeadingCollapsed": true,
    "tags": []
   },
   "source": [
    "## Distribución de precios de oferta para NVIDIA y AMD"
   ]
  },
  {
   "cell_type": "code",
   "execution_count": 16,
   "id": "56b30994-b633-41fc-8ee1-f9aca8f8fda3",
   "metadata": {},
   "outputs": [
    {
     "data": {
      "image/png": "[encoded data removed]",
      "text/plain": [
       "<Figure size 1080x432 with 1 Axes>"
      ]
     },
     "metadata": {
      "needs_background": "light"
     },
     "output_type": "display_data"
    }
   ],
   "source": [
    "# Grafiquemos la distribución de los precios usando un boxplot\n",
    "plt.figure(figsize=(15,6))\n",
    "ax = sns.boxplot(data=data, y='precio_oferta_pesos_chilenos', x='marca')\n",
    "ax.get_yaxis().set_major_formatter(matplotlib.ticker.FuncFormatter(lambda x, p: format(int(x), ',')))\n",
    "plt.title('Distribución de precios oferta para NVIDIA y AMD', fontsize=20)\n",
    "plt.show()"
   ]
  },
  {
   "cell_type": "code",
   "execution_count": 17,
   "id": "2ac34539-571b-40f4-969d-11a282f3be40",
   "metadata": {},
   "outputs": [
    {
     "name": "stdout",
     "output_type": "stream",
     "text": [
      "NVIDIA Bounds:  -824937.5 2638946.5\n",
      "AMD Bounds:  -362510.0 1737490.0\n"
     ]
    }
   ],
   "source": [
    "nvidia_prices = data['precio_oferta_pesos_chilenos'].loc[data['marca'] == 'NVIDIA']\n",
    "Q3_nvidia = np.quantile(nvidia_prices, 0.75)\n",
    "Q1_nvidia = np.quantile(nvidia_prices, 0.25)\n",
    "IQR_nvidia = Q3_nvidia - Q1_nvidia\n",
    "upper_bound_nvidia = Q3_nvidia + 1.5*IQR_nvidia\n",
    "lower_bound_nvidia = Q1_nvidia - 1.5*IQR_nvidia\n",
    "print('NVIDIA Bounds: ', lower_bound_nvidia, upper_bound_nvidia)\n",
    "\n",
    "amd_prices = data['precio_oferta_pesos_chilenos'].loc[data['marca'] == 'AMD']\n",
    "Q3_amd = np.quantile(amd_prices, 0.75)\n",
    "Q1_amd = np.quantile(amd_prices, 0.25)\n",
    "IQR_amd = Q3_amd - Q1_amd\n",
    "upper_bound_amd = Q3_amd + 1.5*IQR_amd\n",
    "lower_bound_amd = Q1_amd - 1.5*IQR_amd\n",
    "print('AMD Bounds: ', lower_bound_amd, upper_bound_amd)"
   ]
  },
  {
   "cell_type": "code",
   "execution_count": 18,
   "id": "4562a5a9-cd36-450b-af0f-43c5540e1905",
   "metadata": {},
   "outputs": [
    {
     "data": {
      "image/png": "[encoded data removed]",
      "text/plain": [
       "<Figure size 1080x432 with 1 Axes>"
      ]
     },
     "metadata": {
      "needs_background": "light"
     },
     "output_type": "display_data"
    }
   ],
   "source": [
    "# Filtramos los outliers de los datos\n",
    "filtered_prices = data.loc[(data['precio_oferta_pesos_chilenos'] < Q3_nvidia)]\n",
    "plt.figure(figsize=(15,6))\n",
    "ax = sns.boxplot(data=filtered_prices, y='precio_oferta_pesos_chilenos', x='marca')\n",
    "ax.get_yaxis().set_major_formatter(matplotlib.ticker.FuncFormatter(lambda x, p: format(int(x), ',')))\n",
    "plt.title('Distribución de precios oferta para NVIDIA y AMD', fontsize=20)\n",
    "plt.ylabel('Precio oferta en pesos chilenos', fontsize=15)\n",
    "plt.xlabel('Marca', fontsize=15)\n",
    "plt.show()"
   ]
  },
  {
   "cell_type": "code",
   "execution_count": 19,
   "id": "8e9a1dda-79ff-45a1-b05b-cbb90c6e086a",
   "metadata": {},
   "outputs": [
    {
     "data": {
      "text/plain": [
       "marca\n",
       "AMD       1314390.0\n",
       "NVIDIA    1299990.0\n",
       "Name: precio_oferta_pesos_chilenos, dtype: float64"
      ]
     },
     "execution_count": 19,
     "metadata": {},
     "output_type": "execute_result"
    }
   ],
   "source": [
    "filtered_prices.groupby('marca')['precio_oferta_pesos_chilenos'].max()"
   ]
  },
  {
   "cell_type": "code",
   "execution_count": 20,
   "id": "69185b95-1c2c-4c86-9d94-c0cb9a538282",
   "metadata": {},
   "outputs": [
    {
     "data": {
      "text/plain": [
       "marca\n",
       "AMD       191990.0\n",
       "NVIDIA    259000.0\n",
       "Name: precio_oferta_pesos_chilenos, dtype: float64"
      ]
     },
     "execution_count": 20,
     "metadata": {},
     "output_type": "execute_result"
    }
   ],
   "source": [
    "filtered_prices.groupby('marca')['precio_oferta_pesos_chilenos'].min()"
   ]
  },
  {
   "cell_type": "markdown",
   "id": "ff282f25-85ac-4cfd-80fb-5dc3bc9e7677",
   "metadata": {},
   "source": [
    "## Modelo que más y menos consumo de energía tiene"
   ]
  },
  {
   "cell_type": "code",
   "execution_count": 21,
   "id": "f43bdbe1-6770-4382-a400-8a753b9cfa9c",
   "metadata": {},
   "outputs": [
    {
     "data": {
      "text/html": [
       "<div>\n",
       "<style scoped>\n",
       "    .dataframe tbody tr th:only-of-type {\n",
       "        vertical-align: middle;\n",
       "    }\n",
       "\n",
       "    .dataframe tbody tr th {\n",
       "        vertical-align: top;\n",
       "    }\n",
       "\n",
       "    .dataframe thead th {\n",
       "        text-align: right;\n",
       "    }\n",
       "</style>\n",
       "<table border=\"1\" class=\"dataframe\">\n",
       "  <thead>\n",
       "    <tr style=\"text-align: right;\">\n",
       "      <th></th>\n",
       "      <th>nombre_comercial</th>\n",
       "      <th>consumo_tdp</th>\n",
       "    </tr>\n",
       "  </thead>\n",
       "  <tbody>\n",
       "    <tr>\n",
       "      <th>3</th>\n",
       "      <td>NVIDIA GeForce RTX 4090</td>\n",
       "      <td>450</td>\n",
       "    </tr>\n",
       "  </tbody>\n",
       "</table>\n",
       "</div>"
      ],
      "text/plain": [
       "          nombre_comercial  consumo_tdp\n",
       "3  NVIDIA GeForce RTX 4090          450"
      ]
     },
     "execution_count": 21,
     "metadata": {},
     "output_type": "execute_result"
    }
   ],
   "source": [
    "data[['nombre_comercial', 'consumo_tdp']].loc[data['consumo_tdp'] == max(data['consumo_tdp'])].head(1)"
   ]
  },
  {
   "cell_type": "code",
   "execution_count": 22,
   "id": "fddb73ef-9fd3-404b-8473-41b9a3ed28c5",
   "metadata": {},
   "outputs": [
    {
     "data": {
      "text/html": [
       "<div>\n",
       "<style scoped>\n",
       "    .dataframe tbody tr th:only-of-type {\n",
       "        vertical-align: middle;\n",
       "    }\n",
       "\n",
       "    .dataframe tbody tr th {\n",
       "        vertical-align: top;\n",
       "    }\n",
       "\n",
       "    .dataframe thead th {\n",
       "        text-align: right;\n",
       "    }\n",
       "</style>\n",
       "<table border=\"1\" class=\"dataframe\">\n",
       "  <thead>\n",
       "    <tr style=\"text-align: right;\">\n",
       "      <th></th>\n",
       "      <th>nombre_comercial</th>\n",
       "      <th>consumo_tdp</th>\n",
       "    </tr>\n",
       "  </thead>\n",
       "  <tbody>\n",
       "    <tr>\n",
       "      <th>24</th>\n",
       "      <td>AMD Radeon RX 6500 XT</td>\n",
       "      <td>107</td>\n",
       "    </tr>\n",
       "  </tbody>\n",
       "</table>\n",
       "</div>"
      ],
      "text/plain": [
       "         nombre_comercial  consumo_tdp\n",
       "24  AMD Radeon RX 6500 XT          107"
      ]
     },
     "execution_count": 22,
     "metadata": {},
     "output_type": "execute_result"
    }
   ],
   "source": [
    "data[['nombre_comercial', 'consumo_tdp']].loc[data['consumo_tdp'] == min(data['consumo_tdp'])].head(1)"
   ]
  },
  {
   "cell_type": "markdown",
   "id": "602ba456-e822-4138-9591-71c0051fb8ec",
   "metadata": {},
   "source": [
    "## Gráfica con más y menos nucleos de procesamiento"
   ]
  },
  {
   "cell_type": "code",
   "execution_count": 23,
   "id": "01cb31ed-df43-4841-a8d9-444104078807",
   "metadata": {},
   "outputs": [
    {
     "data": {
      "text/html": [
       "<div>\n",
       "<style scoped>\n",
       "    .dataframe tbody tr th:only-of-type {\n",
       "        vertical-align: middle;\n",
       "    }\n",
       "\n",
       "    .dataframe tbody tr th {\n",
       "        vertical-align: top;\n",
       "    }\n",
       "\n",
       "    .dataframe thead th {\n",
       "        text-align: right;\n",
       "    }\n",
       "</style>\n",
       "<table border=\"1\" class=\"dataframe\">\n",
       "  <thead>\n",
       "    <tr style=\"text-align: right;\">\n",
       "      <th></th>\n",
       "      <th>nombre_comercial</th>\n",
       "      <th>nucleos_de_procesamiento</th>\n",
       "    </tr>\n",
       "  </thead>\n",
       "  <tbody>\n",
       "    <tr>\n",
       "      <th>3</th>\n",
       "      <td>NVIDIA GeForce RTX 4090</td>\n",
       "      <td>16384</td>\n",
       "    </tr>\n",
       "  </tbody>\n",
       "</table>\n",
       "</div>"
      ],
      "text/plain": [
       "          nombre_comercial  nucleos_de_procesamiento\n",
       "3  NVIDIA GeForce RTX 4090                     16384"
      ]
     },
     "execution_count": 23,
     "metadata": {},
     "output_type": "execute_result"
    }
   ],
   "source": [
    "data[['nombre_comercial', 'nucleos_de_procesamiento']].loc[data['nucleos_de_procesamiento'] == max(data['nucleos_de_procesamiento'])].head(1)"
   ]
  },
  {
   "cell_type": "code",
   "execution_count": 24,
   "id": "bc5a7f01-70fc-4f0a-99e8-f6fc944738bd",
   "metadata": {},
   "outputs": [
    {
     "data": {
      "text/html": [
       "<div>\n",
       "<style scoped>\n",
       "    .dataframe tbody tr th:only-of-type {\n",
       "        vertical-align: middle;\n",
       "    }\n",
       "\n",
       "    .dataframe tbody tr th {\n",
       "        vertical-align: top;\n",
       "    }\n",
       "\n",
       "    .dataframe thead th {\n",
       "        text-align: right;\n",
       "    }\n",
       "</style>\n",
       "<table border=\"1\" class=\"dataframe\">\n",
       "  <thead>\n",
       "    <tr style=\"text-align: right;\">\n",
       "      <th></th>\n",
       "      <th>nombre_comercial</th>\n",
       "      <th>nucleos_de_procesamiento</th>\n",
       "    </tr>\n",
       "  </thead>\n",
       "  <tbody>\n",
       "    <tr>\n",
       "      <th>24</th>\n",
       "      <td>AMD Radeon RX 6500 XT</td>\n",
       "      <td>1024</td>\n",
       "    </tr>\n",
       "  </tbody>\n",
       "</table>\n",
       "</div>"
      ],
      "text/plain": [
       "         nombre_comercial  nucleos_de_procesamiento\n",
       "24  AMD Radeon RX 6500 XT                      1024"
      ]
     },
     "execution_count": 24,
     "metadata": {},
     "output_type": "execute_result"
    }
   ],
   "source": [
    "data[['nombre_comercial', 'nucleos_de_procesamiento']].loc[data['nucleos_de_procesamiento'] == min(data['nucleos_de_procesamiento'])].head(1)"
   ]
  },
  {
   "cell_type": "code",
   "execution_count": null,
   "id": "0fb803a1-a1ce-4efa-b823-ffedbbf63204",
   "metadata": {},
   "outputs": [],
   "source": []
  }
 ],
 "metadata": {
  "kernelspec": {
   "display_name": "Python 3 (ipykernel)",
   "language": "python",
   "name": "python3"
  },
  "language_info": {
   "codemirror_mode": {
    "name": "ipython",
    "version": 3
   },
   "file_extension": ".py",
   "mimetype": "text/x-python",
   "name": "python",
   "nbconvert_exporter": "python",
   "pygments_lexer": "ipython3",
   "version": "3.9.13"
  }
 },
 "nbformat": 4,
 "nbformat_minor": 5
}
